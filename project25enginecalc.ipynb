{
 "cells": [
  {
   "cell_type": "code",
   "execution_count": 13,
   "metadata": {},
   "outputs": [
    {
     "name": "stdout",
     "output_type": "stream",
     "text": [
      "fuel injector orifice area: 9.087447976838789e-06 m^2 =  9.087447976838789 mm^2\n",
      "oxidiser injector orifice area: 9.456122085648488e-06 m^2 =  9.456122085648488 mm^2\n",
      "fuel injection velocity: 55.71741540799281 m/s\n",
      "oxidiser injection velocity: 46.38227883010584 m/s\n",
      "beta -1.1389763595100928\n",
      "momentum ratio 1.0405695977296754\n"
     ]
    }
   ],
   "source": [
    "import math\n",
    "\n",
    "# injector plate \n",
    "\n",
    "# known variables\n",
    "\n",
    "wdot_f = 0.4                # mass flow fuel (kg/s)\n",
    "wdot_o = 0.5                # mass flow oxidiser (kg/s)\n",
    "ro_f = 790                  # density fuel (kg/m^3)\n",
    "ro_o = 1140                 # density oxidiser (kg/m^3)\n",
    "cd = 0.5                    # discarge coefficient \n",
    "p_d = 5*10**5               # pressure drop in injector plate (Pa)\n",
    "g = 9.81                    # gravitational acceleration (m/s^2)\n",
    "a1 = 45                     # angle between fuel stram and vertical axis (degrees)\n",
    "a2 = 45                     # angle between oxidiser stram and vertical axis (degrees)\n",
    "a1_rad = a1/180*math.pi     #conversion of a1 in radians\n",
    "a2_rad = a2/180*math.pi     #conversion of a2 in radians\n",
    "\n",
    "# calculations\n",
    "inj_orifice_area_fuel = math.sqrt((wdot_f**2)/(2*g*ro_f*(cd**2)*p_d))           #calculates injector orifice area for fuel (m^2)\n",
    "inj_orifice_area_oxidiser = math.sqrt((wdot_o**2)/(2*g*ro_o*(cd**2)*p_d))       #calculates injector orifice area for oxidiser (m^2)\n",
    "\n",
    "v_f = wdot_f/(inj_orifice_area_fuel*ro_f)           # calculates injection velocity fuel (m/s)\n",
    "v_o = wdot_o/(inj_orifice_area_oxidiser*ro_o)       # calculates injection velocity oxidiser (m/s)\n",
    "\n",
    "beta_rad = math.atan((wdot_f*v_f*math.sin(a1_rad)-wdot_o*v_o*math.sin(a2_rad))/(wdot_f*v_f*math.cos(a1_rad)+wdot_o*v_o*math.cos(a2_rad)))       #resultant angle of impinging stream, with vertical axis (rad)\n",
    "beta = beta_rad*180/math.pi                                                                                                                     #conversion of beta to degrees\n",
    "\n",
    "r_m = (wdot_o*v_o)/(wdot_f*v_f)     #injection momentum ratio\n",
    "\n",
    "#print results\n",
    "print(\"fuel injector orifice area:\", inj_orifice_area_fuel, \"m^2 = \", inj_orifice_area_fuel*10**6, \"mm^2\")\n",
    "print(\"oxidiser injector orifice area:\", inj_orifice_area_oxidiser, \"m^2 = \", inj_orifice_area_oxidiser*10**6, \"mm^2\")\n",
    "print(\"fuel injection velocity:\", v_f, \"m/s\")\n",
    "print(\"oxidiser injection velocity:\", v_o, \"m/s\")\n",
    "print(\"beta\", beta)\n",
    "print(\"momentum ratio\", r_m)"
   ]
  }
 ],
 "metadata": {
  "kernelspec": {
   "display_name": "base",
   "language": "python",
   "name": "python3"
  },
  "language_info": {
   "codemirror_mode": {
    "name": "ipython",
    "version": 3
   },
   "file_extension": ".py",
   "mimetype": "text/x-python",
   "name": "python",
   "nbconvert_exporter": "python",
   "pygments_lexer": "ipython3",
   "version": "3.9.13"
  }
 },
 "nbformat": 4,
 "nbformat_minor": 2
}
